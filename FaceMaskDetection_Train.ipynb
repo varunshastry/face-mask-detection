{
 "cells": [
  {
   "cell_type": "code",
   "execution_count": 4,
   "metadata": {},
   "outputs": [],
   "source": [
    "from keras.optimizers import RMSprop\n",
    "from keras.preprocessing.image import ImageDataGenerator\n",
    "import cv2\n",
    "from keras.models import Sequential\n",
    "from keras.layers import Conv2D, Input, ZeroPadding2D, BatchNormalization, Activation, MaxPooling2D, Flatten, Dense,Dropout\n",
    "from keras.models import Model, load_model\n",
    "from keras.callbacks import TensorBoard, ModelCheckpoint\n",
    "from sklearn.model_selection import train_test_split\n",
    "from sklearn.metrics import f1_score\n",
    "from sklearn.utils import shuffle\n",
    "import imutils\n",
    "import numpy as np"
   ]
  },
  {
   "cell_type": "code",
   "execution_count": 5,
   "metadata": {},
   "outputs": [],
   "source": [
    "model = Sequential([\n",
    "    Conv2D(100, (3,3), activation='relu', input_shape=(150, 150, 3)),\n",
    "    MaxPooling2D(2,2),\n",
    "    \n",
    "    Conv2D(100, (3,3), activation='relu'),\n",
    "    MaxPooling2D(2,2),\n",
    "    \n",
    "    Flatten(),\n",
    "    Dropout(0.5),\n",
    "    Dense(50, activation='relu'),\n",
    "    Dense(2, activation='softmax')\n",
    "])\n",
    "model.compile(optimizer='adam', loss='binary_crossentropy', metrics=['acc'])"
   ]
  },
  {
   "cell_type": "code",
   "execution_count": 6,
   "metadata": {},
   "outputs": [
    {
     "name": "stdout",
     "output_type": "stream",
     "text": [
      "Found 1315 images belonging to 2 classes.\n",
      "Found 194 images belonging to 2 classes.\n"
     ]
    }
   ],
   "source": [
    "TRAINING_DIR = \"/Users/vshastry/Documents/Tech/Python/FaceMaskDetection/Dataset/train\"\n",
    "train_datagen = ImageDataGenerator(rescale=1.0/255,\n",
    "                                   rotation_range=40,\n",
    "                                   width_shift_range=0.2,\n",
    "                                   height_shift_range=0.2,\n",
    "                                   shear_range=0.2,\n",
    "                                   zoom_range=0.2,\n",
    "                                   horizontal_flip=True,\n",
    "                                   fill_mode='nearest')\n",
    "train_generator = train_datagen.flow_from_directory(TRAINING_DIR, \n",
    "                                                    batch_size=10, \n",
    "                                                    target_size=(150, 150))\n",
    "VALIDATION_DIR = \"/Users/vshastry/Documents/Tech/Python/FaceMaskDetection/Dataset/test\"\n",
    "validation_datagen = ImageDataGenerator(rescale=1.0/255)\n",
    "validation_generator = validation_datagen.flow_from_directory(VALIDATION_DIR, \n",
    "                                                         batch_size=10, \n",
    "                                                         target_size=(150, 150))"
   ]
  },
  {
   "cell_type": "code",
   "execution_count": 7,
   "metadata": {},
   "outputs": [],
   "source": [
    "checkpoint = ModelCheckpoint('model2-{epoch:03d}.model',monitor='val_loss',verbose=0,save_best_only=True,mode='auto')"
   ]
  },
  {
   "cell_type": "code",
   "execution_count": 8,
   "metadata": {},
   "outputs": [
    {
     "name": "stdout",
     "output_type": "stream",
     "text": [
      "WARNING:tensorflow:From <ipython-input-8-6272b23e5a0b>:1: Model.fit_generator (from tensorflow.python.keras.engine.training) is deprecated and will be removed in a future version.\n",
      "Instructions for updating:\n",
      "Please use Model.fit, which supports generators.\n",
      "Epoch 1/10\n",
      "132/132 [==============================] - ETA: 0s - loss: 0.5995 - acc: 0.7308WARNING:tensorflow:From /usr/local/lib/python3.8/site-packages/tensorflow/python/training/tracking/tracking.py:111: Model.state_updates (from tensorflow.python.keras.engine.training) is deprecated and will be removed in a future version.\n",
      "Instructions for updating:\n",
      "This property should not be used in TensorFlow 2.0, as updates are applied automatically.\n",
      "WARNING:tensorflow:From /usr/local/lib/python3.8/site-packages/tensorflow/python/training/tracking/tracking.py:111: Layer.updates (from tensorflow.python.keras.engine.base_layer) is deprecated and will be removed in a future version.\n",
      "Instructions for updating:\n",
      "This property should not be used in TensorFlow 2.0, as updates are applied automatically.\n",
      "INFO:tensorflow:Assets written to: model2-001.model/assets\n",
      "132/132 [==============================] - 30s 224ms/step - loss: 0.5995 - acc: 0.7308 - val_loss: 0.3057 - val_acc: 0.9433\n",
      "Epoch 2/10\n",
      "132/132 [==============================] - ETA: 0s - loss: 0.4014 - acc: 0.8494INFO:tensorflow:Assets written to: model2-002.model/assets\n",
      "132/132 [==============================] - 29s 221ms/step - loss: 0.4014 - acc: 0.8494 - val_loss: 0.1917 - val_acc: 0.9433\n",
      "Epoch 3/10\n",
      "132/132 [==============================] - ETA: 0s - loss: 0.3145 - acc: 0.8897INFO:tensorflow:Assets written to: model2-003.model/assets\n",
      "132/132 [==============================] - 29s 222ms/step - loss: 0.3145 - acc: 0.8897 - val_loss: 0.1860 - val_acc: 0.9124\n",
      "Epoch 4/10\n",
      "132/132 [==============================] - ETA: 0s - loss: 0.2901 - acc: 0.8913INFO:tensorflow:Assets written to: model2-004.model/assets\n",
      "132/132 [==============================] - 29s 222ms/step - loss: 0.2901 - acc: 0.8913 - val_loss: 0.1511 - val_acc: 0.9639\n",
      "Epoch 5/10\n",
      "132/132 [==============================] - 29s 217ms/step - loss: 0.2771 - acc: 0.8943 - val_loss: 0.1610 - val_acc: 0.9330\n",
      "Epoch 6/10\n",
      "132/132 [==============================] - 29s 220ms/step - loss: 0.2357 - acc: 0.9209 - val_loss: 0.2464 - val_acc: 0.8866\n",
      "Epoch 7/10\n",
      "132/132 [==============================] - ETA: 0s - loss: 0.2992 - acc: 0.9019INFO:tensorflow:Assets written to: model2-007.model/assets\n",
      "132/132 [==============================] - 30s 229ms/step - loss: 0.2992 - acc: 0.9019 - val_loss: 0.1193 - val_acc: 0.9536\n",
      "Epoch 8/10\n",
      "132/132 [==============================] - ETA: 0s - loss: 0.2629 - acc: 0.9103INFO:tensorflow:Assets written to: model2-008.model/assets\n",
      "132/132 [==============================] - 30s 229ms/step - loss: 0.2629 - acc: 0.9103 - val_loss: 0.0948 - val_acc: 0.9794\n",
      "Epoch 9/10\n",
      "132/132 [==============================] - ETA: 0s - loss: 0.2311 - acc: 0.9118INFO:tensorflow:Assets written to: model2-009.model/assets\n",
      "132/132 [==============================] - 30s 230ms/step - loss: 0.2311 - acc: 0.9118 - val_loss: 0.0886 - val_acc: 0.9691\n",
      "Epoch 10/10\n",
      "132/132 [==============================] - 29s 223ms/step - loss: 0.2573 - acc: 0.9087 - val_loss: 0.1242 - val_acc: 0.9639\n"
     ]
    }
   ],
   "source": [
    "history = model.fit_generator(train_generator,\n",
    "                              epochs=10,\n",
    "                              validation_data=validation_generator,\n",
    "                              callbacks=[checkpoint])"
   ]
  }
 ],
 "metadata": {
  "kernelspec": {
   "display_name": "Python 3",
   "language": "python",
   "name": "python3"
  },
  "language_info": {
   "codemirror_mode": {
    "name": "ipython",
    "version": 3
   },
   "file_extension": ".py",
   "mimetype": "text/x-python",
   "name": "python",
   "nbconvert_exporter": "python",
   "pygments_lexer": "ipython3",
   "version": "3.8.5"
  }
 },
 "nbformat": 4,
 "nbformat_minor": 4
}
